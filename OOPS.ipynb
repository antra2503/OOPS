{
  "nbformat": 4,
  "nbformat_minor": 0,
  "metadata": {
    "colab": {
      "provenance": []
    },
    "kernelspec": {
      "name": "python3",
      "display_name": "Python 3"
    },
    "language_info": {
      "name": "python"
    }
  },
  "cells": [
    {
      "cell_type": "markdown",
      "source": [
        "**Q1. What are the five key concepts of Object-Oriented Programming (OOP)?**\n",
        "\n",
        "--> Encapsulation: Bundling of data and methods that operate on the data within a single unit (class).\n",
        "\n",
        "Abstraction: Hiding implementation details and showing only the essential features of an object.\n",
        "\n",
        "Inheritance: Mechanism where one class acquires the properties and behavior of another class.\n",
        "\n",
        "Polymorphism: Ability of a single interface to represent different data types or classes.\n",
        "\n",
        "Classes and Objects: Blueprints for creating objects, which are instances of classes."
      ],
      "metadata": {
        "id": "szGzocd_UlVj"
      }
    },
    {
      "cell_type": "markdown",
      "source": [
        "**Q2. Write a Python class for a Car with attributes for make, model, and year. Include a method to display the car's information.**\n"
      ],
      "metadata": {
        "id": "pTmYjy7SUwCL"
      }
    },
    {
      "cell_type": "code",
      "execution_count": 1,
      "metadata": {
        "colab": {
          "base_uri": "https://localhost:8080/"
        },
        "id": "L_ns029zUant",
        "outputId": "e79b6f74-dd94-49e7-a639-3cfcf6b5d876"
      },
      "outputs": [
        {
          "output_type": "stream",
          "name": "stdout",
          "text": [
            "Car: 2022 Toyota Camry\n"
          ]
        }
      ],
      "source": [
        "class Car:\n",
        "    def __init__(self, make, model, year):\n",
        "        self.make = make\n",
        "        self.model = model\n",
        "        self.year = year\n",
        "\n",
        "    def display_info(self):\n",
        "        return f\"Car: {self.year} {self.make} {self.model}\"\n",
        "\n",
        "# Example usage:\n",
        "car = Car(\"Toyota\", \"Camry\", 2022)\n",
        "print(car.display_info())"
      ]
    },
    {
      "cell_type": "markdown",
      "source": [
        "**Q3. Explain the difference between instance methods and class methods. Provide an example of each.**\n",
        "\n",
        "--> Instance methods: Operate on an instance of the class. They can access and modify the instance's attributes.\n",
        "\n",
        "Class methods: Operate on the class itself. They cannot access instance attributes but can modify class-level attributes."
      ],
      "metadata": {
        "id": "-4Ox-YI4U7gh"
      }
    },
    {
      "cell_type": "code",
      "source": [
        "class Example:\n",
        "    class_variable = 0\n",
        "\n",
        "    def __init__(self, instance_variable):\n",
        "        self.instance_variable = instance_variable\n",
        "\n",
        "    def instance_method(self):\n",
        "        return f\"Instance variable: {self.instance_variable}\"\n",
        "\n",
        "    @classmethod\n",
        "    def class_method(cls):\n",
        "        return f\"Class variable: {cls.class_variable}\"\n",
        "\n",
        "# Usage:\n",
        "obj = Example(10)\n",
        "print(obj.instance_method())\n",
        "print(Example.class_method())"
      ],
      "metadata": {
        "colab": {
          "base_uri": "https://localhost:8080/"
        },
        "id": "YuePTaa4U5Zv",
        "outputId": "40f66739-0ed9-40e3-e842-5f6e686e7e39"
      },
      "execution_count": 2,
      "outputs": [
        {
          "output_type": "stream",
          "name": "stdout",
          "text": [
            "Instance variable: 10\n",
            "Class variable: 0\n"
          ]
        }
      ]
    },
    {
      "cell_type": "markdown",
      "source": [
        "**Q4. How does Python implement method overloading? Give an example.**\n",
        "\n",
        "--> Python does not support traditional method overloading directly. Instead, it uses default arguments or *args and **kwargs to achieve similar functionality."
      ],
      "metadata": {
        "id": "ErrRx6UsVP9o"
      }
    },
    {
      "cell_type": "code",
      "source": [
        "class Example:\n",
        "    def display(self, a=None, b=None):\n",
        "        if a is not None and b is not None:\n",
        "            return f\"a: {a}, b: {b}\"\n",
        "        elif a is not None:\n",
        "            return f\"a: {a}\"\n",
        "        else:\n",
        "            return \"No arguments\"\n",
        "\n",
        "# Usage:\n",
        "obj = Example()\n",
        "print(obj.display())\n",
        "print(obj.display(5))\n",
        "print(obj.display(5, 10))"
      ],
      "metadata": {
        "colab": {
          "base_uri": "https://localhost:8080/"
        },
        "id": "PhL_AfLOVJET",
        "outputId": "711d77dc-8c4b-4199-e3f8-7c2fc5b4596a"
      },
      "execution_count": 3,
      "outputs": [
        {
          "output_type": "stream",
          "name": "stdout",
          "text": [
            "No arguments\n",
            "a: 5\n",
            "a: 5, b: 10\n"
          ]
        }
      ]
    },
    {
      "cell_type": "markdown",
      "source": [
        "**Q5. What are the three types of access modifiers in Python? How are they denoted?**\n",
        "\n",
        "--> Public: Accessible from anywhere. Denoted by no leading underscores (variable).\n",
        "\n",
        "Protected: Accessible within the class and subclasses. Denoted by a single leading underscore (_variable).\n",
        "\n",
        "Private: Accessible only within the class. Denoted by two leading underscores (__variable)."
      ],
      "metadata": {
        "id": "8j0HEX1mVdq5"
      }
    },
    {
      "cell_type": "markdown",
      "source": [
        "**Q6. Describe the five types of inheritance in Python. Provide a simple example of multiple inheritance.**\n",
        "\n",
        "--> Single Inheritance: A child class inherits from one parent class.\n",
        "\n",
        "Multiple Inheritance: A child class inherits from multiple parent classes.\n",
        "\n",
        "Multilevel Inheritance: A class inherits from a child class, which in turn inherits from a parent class.\n",
        "\n",
        "Hierarchical Inheritance: Multiple child classes inherit from a single parent class.\n",
        "\n",
        "Hybrid Inheritance: A combination of two or more types of inheritance."
      ],
      "metadata": {
        "id": "dg8gg26xVmM8"
      }
    },
    {
      "cell_type": "code",
      "source": [
        "# Example of Multiple Inheritence\n",
        "class Parent1:\n",
        "    def method1(self):\n",
        "        return \"Method from Parent1\"\n",
        "\n",
        "class Parent2:\n",
        "    def method2(self):\n",
        "        return \"Method from Parent2\"\n",
        "\n",
        "class Child(Parent1, Parent2):\n",
        "    pass\n",
        "\n",
        "child = Child()\n",
        "print(child.method1())\n",
        "print(child.method2())"
      ],
      "metadata": {
        "colab": {
          "base_uri": "https://localhost:8080/"
        },
        "id": "aDUtFlRJVcnC",
        "outputId": "fdc7f54d-acca-4d22-b58e-84eefdabbb33"
      },
      "execution_count": 4,
      "outputs": [
        {
          "output_type": "stream",
          "name": "stdout",
          "text": [
            "Method from Parent1\n",
            "Method from Parent2\n"
          ]
        }
      ]
    },
    {
      "cell_type": "markdown",
      "source": [
        "**Q7. What is the Method Resolution Order (MRO) in Python? How can you retrieve it programmatically?**\n",
        "\n",
        "--> MRO determines the order in which Python looks for a method in a hierarchy of classes during inheritance.\n",
        "\n",
        "It uses the C3 Linearization algorithm to ensure a consistent method lookup order."
      ],
      "metadata": {
        "id": "XkriPYrBV6C1"
      }
    },
    {
      "cell_type": "code",
      "source": [
        "# To retrieve MRO\n",
        "class A: pass\n",
        "class B(A): pass\n",
        "class C(B): pass\n",
        "\n",
        "print(C.mro())"
      ],
      "metadata": {
        "colab": {
          "base_uri": "https://localhost:8080/"
        },
        "id": "i4JTXAzcV5MW",
        "outputId": "b9e18957-cf48-4bfa-fda1-eb0189f6aa0e"
      },
      "execution_count": 5,
      "outputs": [
        {
          "output_type": "stream",
          "name": "stdout",
          "text": [
            "[<class '__main__.C'>, <class '__main__.B'>, <class '__main__.A'>, <class 'object'>]\n"
          ]
        }
      ]
    },
    {
      "cell_type": "markdown",
      "source": [
        "**Q8. Create an abstract base class Shape with an abstract method area(). Then create two subclasses Circle and Rectangle that implement the area() method.**"
      ],
      "metadata": {
        "id": "C0LSF54xWJCg"
      }
    },
    {
      "cell_type": "code",
      "source": [
        "from abc import ABC, abstractmethod\n",
        "import math\n",
        "\n",
        "class Shape(ABC):\n",
        "    @abstractmethod\n",
        "    def area(self):\n",
        "        pass\n",
        "\n",
        "class Circle(Shape):\n",
        "    def __init__(self, radius):\n",
        "        self.radius = radius\n",
        "\n",
        "    def area(self):\n",
        "        return math.pi * self.radius ** 2\n",
        "\n",
        "class Rectangle(Shape):\n",
        "    def __init__(self, width, height):\n",
        "        self.width = width\n",
        "        self.height = height\n",
        "\n",
        "    def area(self):\n",
        "        return self.width * self.height\n",
        "\n",
        "# Example usage:\n",
        "circle = Circle(5)\n",
        "rectangle = Rectangle(4, 6)\n",
        "print(circle.area())\n",
        "print(rectangle.area())"
      ],
      "metadata": {
        "colab": {
          "base_uri": "https://localhost:8080/"
        },
        "id": "VH_rTqOiWHpQ",
        "outputId": "b7f925a6-f56f-47ef-e0a4-ed57ff6bac14"
      },
      "execution_count": 6,
      "outputs": [
        {
          "output_type": "stream",
          "name": "stdout",
          "text": [
            "78.53981633974483\n",
            "24\n"
          ]
        }
      ]
    },
    {
      "cell_type": "markdown",
      "source": [
        "**Q9. Demonstrate polymorphism by creating a function that can work with different shape objects to calculate and print their areas.**\n"
      ],
      "metadata": {
        "id": "EtLA406TWUOv"
      }
    },
    {
      "cell_type": "code",
      "source": [
        "def print_area(shape):\n",
        "    print(f\"The area is: {shape.area()}\")\n",
        "\n",
        "circle = Circle(5)\n",
        "rectangle = Rectangle(4, 6)\n",
        "\n",
        "print_area(circle)\n",
        "print_area(rectangle)"
      ],
      "metadata": {
        "colab": {
          "base_uri": "https://localhost:8080/"
        },
        "id": "2Hon1mlwWQt_",
        "outputId": "866597b5-fced-4b9b-a3dc-9d738984bab8"
      },
      "execution_count": 7,
      "outputs": [
        {
          "output_type": "stream",
          "name": "stdout",
          "text": [
            "The area is: 78.53981633974483\n",
            "The area is: 24\n"
          ]
        }
      ]
    },
    {
      "cell_type": "markdown",
      "source": [
        "**Q10. Implement encapsulation in a BankAccount class with private attributes for balance and account_number. Include methods for deposit, withdrawal, and balance inquiry.**"
      ],
      "metadata": {
        "id": "2daNOktXWfkK"
      }
    },
    {
      "cell_type": "code",
      "source": [
        "class BankAccount:\n",
        "    def __init__(self, account_number, balance=0):\n",
        "        self.__account_number = account_number\n",
        "        self.__balance = balance\n",
        "\n",
        "    def deposit(self, amount):\n",
        "        if amount > 0:\n",
        "            self.__balance += amount\n",
        "\n",
        "    def withdraw(self, amount):\n",
        "        if 0 < amount <= self.__balance:\n",
        "            self.__balance -= amount\n",
        "        else:\n",
        "            raise ValueError(\"Insufficient funds\")\n",
        "\n",
        "    def get_balance(self):\n",
        "        return self.__balance\n",
        "\n",
        "# Example usage:\n",
        "account = BankAccount(\"123456\")\n",
        "account.deposit(100)\n",
        "account.withdraw(30)\n",
        "print(account.get_balance())"
      ],
      "metadata": {
        "colab": {
          "base_uri": "https://localhost:8080/"
        },
        "id": "d2SwHvclWezK",
        "outputId": "efa7d2c9-a1a2-459b-daef-b2630a0da781"
      },
      "execution_count": 8,
      "outputs": [
        {
          "output_type": "stream",
          "name": "stdout",
          "text": [
            "70\n"
          ]
        }
      ]
    },
    {
      "cell_type": "markdown",
      "source": [
        "**Q11. Write a class that overrides the __str__ and __add__ magic methods. What will these methods allow you to do?**\n",
        "\n",
        "--> __str__: Allows defining a custom string representation of an object.\n",
        "\n",
        "__add__: Enables using + to add two objects of the class."
      ],
      "metadata": {
        "id": "jYCYEq4-WouF"
      }
    },
    {
      "cell_type": "code",
      "source": [
        "class CustomNumber:\n",
        "    def __init__(self, value):\n",
        "        self.value = value\n",
        "\n",
        "    def __str__(self):\n",
        "        return f\"CustomNumber: {self.value}\"\n",
        "\n",
        "    def __add__(self, other):\n",
        "        return CustomNumber(self.value + other.value)\n",
        "\n",
        "# Example usage:\n",
        "num1 = CustomNumber(10)\n",
        "num2 = CustomNumber(20)\n",
        "num3 = num1 + num2\n",
        "print(num3)"
      ],
      "metadata": {
        "colab": {
          "base_uri": "https://localhost:8080/"
        },
        "id": "u0qqrpYtWntU",
        "outputId": "64fea01c-890c-4ad3-e8cc-2c117d9141bc"
      },
      "execution_count": 10,
      "outputs": [
        {
          "output_type": "stream",
          "name": "stdout",
          "text": [
            "CustomNumber: 30\n"
          ]
        }
      ]
    },
    {
      "cell_type": "markdown",
      "source": [
        "**Q12. Create a decorator that measures and prints the execution time of a function.**"
      ],
      "metadata": {
        "id": "y1eLO1oHWxAe"
      }
    },
    {
      "cell_type": "code",
      "source": [
        "import time\n",
        "\n",
        "def timer_decorator(func):\n",
        "    def wrapper(*args, **kwargs):\n",
        "        start_time = time.time()\n",
        "        result = func(*args, **kwargs)\n",
        "        end_time = time.time()\n",
        "        print(f\"Execution time: {end_time - start_time:.4f} seconds\")\n",
        "        return result\n",
        "    return wrapper\n",
        "\n",
        "@timer_decorator\n",
        "def slow_function():\n",
        "    time.sleep(2)\n",
        "    return \"Finished\"\n",
        "\n",
        "print(slow_function())"
      ],
      "metadata": {
        "colab": {
          "base_uri": "https://localhost:8080/"
        },
        "id": "ESuELjwsWv0N",
        "outputId": "51d8b7fb-44c3-4d76-af95-7126508c2d33"
      },
      "execution_count": 11,
      "outputs": [
        {
          "output_type": "stream",
          "name": "stdout",
          "text": [
            "Execution time: 2.0021 seconds\n",
            "Finished\n"
          ]
        }
      ]
    },
    {
      "cell_type": "markdown",
      "source": [
        "**Q13. Explain the concept of the Diamond Problem in multiple inheritance. How does Python resolve it?**\n",
        "\n",
        "--> Diamond Problem: Occurs when a class inherits from two classes that share a common base class, creating ambiguity in the method resolution order.\n",
        "\n",
        "Resolution in Python: Python resolves this issue using the C3 Linearization algorithm, ensuring a clear method lookup order. The mro() function shows this order."
      ],
      "metadata": {
        "id": "ROFneLk5XDTg"
      }
    },
    {
      "cell_type": "code",
      "source": [
        "class A:\n",
        "    def method(self):\n",
        "        print(\"A's method\")\n",
        "\n",
        "class B(A):\n",
        "    def method(self):\n",
        "        print(\"B's method\")\n",
        "\n",
        "class C(A):\n",
        "    def method(self):\n",
        "        print(\"C's method\")\n",
        "\n",
        "class D(B, C):\n",
        "    pass\n",
        "\n",
        "obj = D()\n",
        "obj.method()"
      ],
      "metadata": {
        "colab": {
          "base_uri": "https://localhost:8080/"
        },
        "id": "O-KSG8kEXCTf",
        "outputId": "2ced21cf-f729-4456-b384-0512e2971061"
      },
      "execution_count": 12,
      "outputs": [
        {
          "output_type": "stream",
          "name": "stdout",
          "text": [
            "B's method\n"
          ]
        }
      ]
    },
    {
      "cell_type": "code",
      "source": [
        "print(D.mro())"
      ],
      "metadata": {
        "colab": {
          "base_uri": "https://localhost:8080/"
        },
        "id": "ZMLX7TVqXU7_",
        "outputId": "2be5ced1-8816-492c-d8fb-7faa90fc53e4"
      },
      "execution_count": 13,
      "outputs": [
        {
          "output_type": "stream",
          "name": "stdout",
          "text": [
            "[<class '__main__.D'>, <class '__main__.B'>, <class '__main__.C'>, <class '__main__.A'>, <class 'object'>]\n"
          ]
        }
      ]
    },
    {
      "cell_type": "markdown",
      "source": [
        "**Q14. Write a class method that keeps track of the number of instances created from a class.**\n"
      ],
      "metadata": {
        "id": "bZX-HU7iXbZT"
      }
    },
    {
      "cell_type": "code",
      "source": [
        "class Counter:\n",
        "    instance_count = 0\n",
        "\n",
        "    def __init__(self):\n",
        "        Counter.instance_count += 1\n",
        "\n",
        "    @classmethod\n",
        "    def get_instance_count(cls):\n",
        "        return cls.instance_count\n",
        "\n",
        "# Example usage:\n",
        "obj1 = Counter()\n",
        "obj2 = Counter()\n",
        "print(Counter.get_instance_count())"
      ],
      "metadata": {
        "colab": {
          "base_uri": "https://localhost:8080/"
        },
        "id": "EHF3W2h-XZzh",
        "outputId": "9dcdd93d-b138-4c6a-ccbc-6739c5b4088c"
      },
      "execution_count": 14,
      "outputs": [
        {
          "output_type": "stream",
          "name": "stdout",
          "text": [
            "2\n"
          ]
        }
      ]
    },
    {
      "cell_type": "markdown",
      "source": [
        "**Q15. Implement a static method in a class that checks if a given year is a leap year.**"
      ],
      "metadata": {
        "id": "1XRe7vdnXjM4"
      }
    },
    {
      "cell_type": "code",
      "source": [
        "class Utility:\n",
        "    @staticmethod\n",
        "    def is_leap_year(year):\n",
        "        if (year % 4 == 0 and year % 100 != 0) or (year % 400 == 0):\n",
        "            return True\n",
        "        return False\n",
        "\n",
        "# Example usage:\n",
        "print(Utility.is_leap_year(2024))\n",
        "print(Utility.is_leap_year(2023))"
      ],
      "metadata": {
        "colab": {
          "base_uri": "https://localhost:8080/"
        },
        "id": "bG1bDXATXiPI",
        "outputId": "cc4fedc8-057a-49e2-bd35-bc8384c84572"
      },
      "execution_count": 15,
      "outputs": [
        {
          "output_type": "stream",
          "name": "stdout",
          "text": [
            "True\n",
            "False\n"
          ]
        }
      ]
    },
    {
      "cell_type": "code",
      "source": [],
      "metadata": {
        "id": "5XznAmUXXrWR"
      },
      "execution_count": null,
      "outputs": []
    }
  ]
}